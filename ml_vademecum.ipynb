{
 "cells": [
  {
   "cell_type": "markdown",
   "id": "01b4b407-5ce7-4ff7-83f8-9a7b7400bdb5",
   "metadata": {},
   "source": [
    "# Machine Learning Vademecum\n",
    "## Cos'è il machine learning\n",
    "Il machine learning (ML) è la disciplina il cui obiettivo è migliorare le prestazioni di un sistema apprendendo dall'esperienza tramite metodi computazionali.  \n",
    "Non è poi così diverso da quello che anche noi umani facciamo quotidianamente: di continuo ci basiamo su esperienze pregresse per fare predizioni più o meno accurate sulla realtà. Ad esempio, sappiamo prevedere con una certa sicurezza se una pesca sia buona o meno, semplicemente guardandola e toccandola, ancor prima di mangiarla.  \n",
    "La predizione non deriva da un ragionamento logico (altrimenti sarebbe sempre esatta), ma dall'essersi scontrati già più volte con le istanze del problema (la pesca è buona?). Questo ci ha fornito, tramite quello che è un **processo induttivo**, un meccanismo risolutivo col quale affrontare istanze (pesche) nuove, mai incontrate prima.\n",
    "\n",
    "Seguendo questo paradigma, l'idea alla base del ML è dare in pasto dei dati ad un cosiddetto **algoritomo di apprendimento**, che li usi per produrre un **modello** in grado di fornire risposte sufficientemente accurate di fronte a nuove istanze del problema. \n",
    "Esattamente come le nostre predizioni riguardo alla pesca possono rivelarsi errate, così possono esserlo le risposte fornite dal modello, al quale si associano quindi delle metriche che ne valutano la performance.  \n",
    "\n",
    "Ma perché accontentarsi di una risposta *probabilmente* corretta al posto di una la cui correttezza è dimostrabile logicamente?"
   ]
  }
 ],
 "metadata": {
  "kernelspec": {
   "display_name": "Python 3 (ipykernel)",
   "language": "python",
   "name": "python3"
  },
  "language_info": {
   "codemirror_mode": {
    "name": "ipython",
    "version": 3
   },
   "file_extension": ".py",
   "mimetype": "text/x-python",
   "name": "python",
   "nbconvert_exporter": "python",
   "pygments_lexer": "ipython3",
   "version": "3.12.6"
  }
 },
 "nbformat": 4,
 "nbformat_minor": 5
}
