{
 "cells": [
  {
   "cell_type": "markdown",
   "id": "01b4b407-5ce7-4ff7-83f8-9a7b7400bdb5",
   "metadata": {},
   "source": [
    "# Machine Learning Vademecum\n",
    "## Cos'è il machine learning\n",
    "Il machine learning (ML) è la disciplina il cui obiettivo è migliorare le prestazioni di un sistema apprendendo dall'esperienza tramite metodi computazionali.  \n",
    "Non è poi così diverso da quello che anche noi umani facciamo quotidianamente: di continuo ci basiamo su esperienze pregresse per fare predizioni più o meno accurate sulla realtà. Ad esempio, sappiamo prevedere con una certa sicurezza se una pesca sia buona o meno, semplicemente guardandola e toccandola, ancor prima di mangiarla.  \n",
    "La predizione non deriva da un ragionamento logico (altrimenti sarebbe sempre esatta), ma dall'essersi scontrati già più volte con le istanze del problema (la pesca è buona?). Questo ci ha fornito, tramite quello che è un **processo induttivo**, un meccanismo risolutivo col quale affrontare istanze (pesche) nuove, mai incontrate prima.\n",
    "\n",
    "Seguendo questo paradigma, l'idea alla base del ML è dare in pasto dei dati ad un cosiddetto **algoritomo di apprendimento**, che li usi per produrre un **modello** in grado di fornire risposte sufficientemente accurate di fronte a nuove istanze del problema. \n",
    "Esattamente come le nostre predizioni riguardo alla pesca possono rivelarsi errate, così possono esserlo le risposte fornite dal modello, al quale si associano quindi delle metriche che ne valutano la performance.  \n",
    "\n",
    "Ma perché accontentarsi di una risposta *probabilmente* corretta al posto di una la cui correttezza è dimostrabile logicamente?\n",
    "\n",
    "## Due tipologie di modello\n",
    "Presentiamo molto brevemente due tra le numerose tipologie di modello di ML, anche per illustrare più facilmente alcuni concetti più avanti.\n",
    "\n",
    "### Albero di decisione\n",
    "Si tratta di un albero in cui ogni nodo interno rappresenta una decisione basata su una caratteristica (o attributo) dell'esempio, e le foglie rappresentano le classi o le previsioni finali.  \n",
    "(fissata un’altezza massima) L’algoritmo di apprendimento produce, partendo dai dati, un albero di decisione; deve quindi stabilirne la struttura, le condizioni presenti nei nodi interni e le classi nelle foglie.  \n",
    "<div style=\"text-align: center;\">\n",
    "    <img src=\"images/decision_tree.png\" alt=\"Descrizione\" width=\"400\" height=\"300\">\n",
    "</div>\n",
    "\n",
    "### KNN\n",
    "Gli esempi vengono disposti in uno spazio avente una dimensione per ogni possibile caratteristica/attributo delle istanze. Dunque ogni esempio corrisponde ad un punto in questo spazio.  \n",
    "Per classificare una nuova istanza, rappresentata da un nuovo punto, KNN calcola la distanza tra quest'ultimo e tutti i punti del dataset (solitamente utilizzando la distanza euclidea).\n",
    "Vengono poi selezionati i K punti più vicini (da qui \"K-nearest neighbors\").\n",
    "La classe del nuovo punto viene determinata dalla classe più frequente tra i K vicini selezionati nel caso della classificazione, oppure dalla media dei valori nel caso della regressione.  \n",
    "Nel caso di KNN non c’è una vera e propria fase di allenamento (vedremo poi nel paragrafo dedicato a parametri e iperparametri); semplicemente i dati vengono memorizzati.\n",
    "<div style=\"text-align: center;\">\n",
    "    <img src=\"images/knn.png\" alt=\"Descrizione\" width=\"300\" height=\"200\">\n",
    "</div>"
   ]
  },
  {
   "cell_type": "code",
   "execution_count": null,
   "id": "569b4aa7-b22c-4498-b9a5-d6649fdfb85e",
   "metadata": {},
   "outputs": [],
   "source": []
  }
 ],
 "metadata": {
  "kernelspec": {
   "display_name": "Python 3 (ipykernel)",
   "language": "python",
   "name": "python3"
  },
  "language_info": {
   "codemirror_mode": {
    "name": "ipython",
    "version": 3
   },
   "file_extension": ".py",
   "mimetype": "text/x-python",
   "name": "python",
   "nbconvert_exporter": "python",
   "pygments_lexer": "ipython3",
   "version": "3.12.6"
  }
 },
 "nbformat": 4,
 "nbformat_minor": 5
}
